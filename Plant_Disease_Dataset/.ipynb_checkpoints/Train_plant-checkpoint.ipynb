{
 "cells": [
  {
   "cell_type": "code",
   "execution_count": 6,
   "id": "cb07be68-3dee-4975-853c-bf3c9cf8787c",
   "metadata": {},
   "outputs": [],
   "source": [
    "import tensorflow as tf\n",
    "import matplotlib.pyplot as plt\n",
    "import pandas as pd\n",
    "import seaborn as sns"
   ]
  },
  {
   "cell_type": "code",
   "execution_count": 7,
   "id": "c2c65085-97d6-4d0f-8613-f63e141e8a65",
   "metadata": {},
   "outputs": [],
   "source": [
    "###Training image preprocessing"
   ]
  },
  {
   "cell_type": "code",
   "execution_count": 8,
   "id": "b1e980d7-73db-49f3-856f-35694d7e409d",
   "metadata": {},
   "outputs": [
    {
     "name": "stdout",
     "output_type": "stream",
     "text": [
      "Found 70295 files belonging to 38 classes.\n"
     ]
    }
   ],
   "source": [
    "training_set=tf.keras.utils.image_dataset_from_directory(\n",
    "    \"train\",\n",
    "    labels=\"inferred\",\n",
    "    label_mode=\"categorical\",\n",
    "    class_names=None,\n",
    "    color_mode=\"rgb\",\n",
    "    batch_size=32,\n",
    "    image_size=(128, 128),\n",
    "    shuffle=True,\n",
    "    seed=None,\n",
    "    validation_split=None,\n",
    "    subset=None,\n",
    "    interpolation=\"bilinear\",\n",
    "    follow_links=False,\n",
    "    crop_to_aspect_ratio=False,\n",
    ")"
   ]
  },
  {
   "cell_type": "code",
   "execution_count": 9,
   "id": "3f347192-2f6d-42b4-8811-37952f6b29e8",
   "metadata": {},
   "outputs": [],
   "source": [
    "###Validation Image PreProcessing"
   ]
  },
  {
   "cell_type": "code",
   "execution_count": 10,
   "id": "58ccb609-7f3a-4d63-a8a1-fc7ffc9d0890",
   "metadata": {},
   "outputs": [
    {
     "name": "stdout",
     "output_type": "stream",
     "text": [
      "Found 17572 files belonging to 38 classes.\n"
     ]
    }
   ],
   "source": [
    "validation_set=tf.keras.utils.image_dataset_from_directory(\n",
    "    \"valid\",\n",
    "    labels=\"inferred\",\n",
    "    label_mode=\"categorical\",\n",
    "    class_names=None,\n",
    "    color_mode=\"rgb\",\n",
    "    batch_size=32,\n",
    "    image_size=(128, 128),\n",
    "    shuffle=True,\n",
    "    seed=None,\n",
    "    validation_split=None,\n",
    "    subset=None,\n",
    "    interpolation=\"bilinear\",\n",
    "    follow_links=False,\n",
    "    crop_to_aspect_ratio=False,\n",
    ")"
   ]
  },
  {
   "cell_type": "code",
   "execution_count": 11,
   "id": "1c15b82b-7931-4d8b-a93e-5677beb2ef32",
   "metadata": {},
   "outputs": [
    {
     "data": {
      "text/plain": [
       "<BatchDataset element_spec=(TensorSpec(shape=(None, 128, 128, 3), dtype=tf.float32, name=None), TensorSpec(shape=(None, 38), dtype=tf.float32, name=None))>"
      ]
     },
     "execution_count": 11,
     "metadata": {},
     "output_type": "execute_result"
    }
   ],
   "source": [
    "training_set"
   ]
  },
  {
   "cell_type": "code",
   "execution_count": 12,
   "id": "0854e323-95a7-4b69-9499-f7489855b54c",
   "metadata": {},
   "outputs": [],
   "source": [
    "#for x, y in training_set:\n",
    "##    print(x.shape)\n",
    "#    print(y.shape)"
   ]
  },
  {
   "cell_type": "code",
   "execution_count": 13,
   "id": "c16113f3-bc34-4d3d-9900-8eec5788a416",
   "metadata": {},
   "outputs": [],
   "source": [
    "###Building Model"
   ]
  },
  {
   "cell_type": "code",
   "execution_count": 14,
   "id": "e33ac914-c6fa-4e57-a921-d833218d89e5",
   "metadata": {},
   "outputs": [],
   "source": [
    "from tensorflow.keras.layers import Dense,Conv2D,MaxPool2D,Flatten,Dropout\n",
    "from tensorflow.keras.models import Sequential"
   ]
  },
  {
   "cell_type": "code",
   "execution_count": 15,
   "id": "4a5b1555-103c-4ef4-bafe-110caf14ed1a",
   "metadata": {},
   "outputs": [],
   "source": [
    "model=Sequential()"
   ]
  },
  {
   "cell_type": "code",
   "execution_count": 16,
   "id": "86a17b70-4d0b-4076-960f-64c5d846e2a2",
   "metadata": {},
   "outputs": [],
   "source": [
    "## Building Convolution Layer"
   ]
  },
  {
   "cell_type": "code",
   "execution_count": 17,
   "id": "53bbea8e-bf17-404d-bf66-438deb3ef9ef",
   "metadata": {},
   "outputs": [],
   "source": [
    "model.add(Conv2D(filters=32,kernel_size=3,padding='same',activation='relu',input_shape=[128,128,3]))\n",
    "model.add(Conv2D(filters=32,kernel_size=3,activation='relu'))\n",
    "model.add(MaxPool2D(pool_size=2,strides=2))"
   ]
  },
  {
   "cell_type": "code",
   "execution_count": 18,
   "id": "a1a0b895-2401-4573-b823-9821db1d3b62",
   "metadata": {},
   "outputs": [],
   "source": [
    "model.add(Conv2D(filters=64,kernel_size=3,padding='same',activation='relu'))\n",
    "model.add(Conv2D(filters=64,kernel_size=3,activation='relu'))\n",
    "model.add(MaxPool2D(pool_size=2,strides=2))"
   ]
  },
  {
   "cell_type": "code",
   "execution_count": 19,
   "id": "09418c5f-ef44-45af-9416-36a38fad7799",
   "metadata": {},
   "outputs": [],
   "source": [
    "model.add(Conv2D(filters=128,kernel_size=3,padding='same',activation='relu'))\n",
    "model.add(Conv2D(filters=128,kernel_size=3,activation='relu'))\n",
    "model.add(MaxPool2D(pool_size=2,strides=2))"
   ]
  },
  {
   "cell_type": "code",
   "execution_count": 20,
   "id": "b05a808e-10ad-44bf-9c54-7825e1689ead",
   "metadata": {},
   "outputs": [],
   "source": [
    "model.add(Conv2D(filters=256,kernel_size=3,padding='same',activation='relu'))\n",
    "model.add(Conv2D(filters=256,kernel_size=3,activation='relu'))\n",
    "model.add(MaxPool2D(pool_size=2,strides=2))"
   ]
  },
  {
   "cell_type": "code",
   "execution_count": 21,
   "id": "4b905473-7a9b-49d1-bd38-f8ea363a78c9",
   "metadata": {},
   "outputs": [],
   "source": [
    "model.add(Conv2D(filters=512,kernel_size=3,padding='same',activation='relu'))\n",
    "model.add(Conv2D(filters=512,kernel_size=3,activation='relu'))\n",
    "model.add(MaxPool2D(pool_size=2,strides=2))"
   ]
  },
  {
   "cell_type": "code",
   "execution_count": 22,
   "id": "3bc9a08c-33bb-4126-b8e6-93d208ca5857",
   "metadata": {},
   "outputs": [],
   "source": [
    "model.add(Dropout(0.25))"
   ]
  },
  {
   "cell_type": "code",
   "execution_count": 23,
   "id": "3955ccf9-5d90-4997-af13-6df26fe0d3bf",
   "metadata": {},
   "outputs": [],
   "source": [
    "model.add(Flatten())"
   ]
  },
  {
   "cell_type": "code",
   "execution_count": 24,
   "id": "688b8924-d7ce-4a12-9e19-9cec7115010f",
   "metadata": {},
   "outputs": [],
   "source": [
    "model.add(Dense(units=1500,activation='relu'))"
   ]
  },
  {
   "cell_type": "code",
   "execution_count": 25,
   "id": "bfdc7dd7-4be8-45e9-95e5-9b416f9c51f3",
   "metadata": {},
   "outputs": [],
   "source": [
    "model.add(Dropout(0.4))"
   ]
  },
  {
   "cell_type": "code",
   "execution_count": 26,
   "id": "fb9c8606-729b-47f7-8c2a-03eca295a2c9",
   "metadata": {},
   "outputs": [],
   "source": [
    "##Output layer\n",
    "model.add(Dense(units=38,activation='softmax'))"
   ]
  },
  {
   "cell_type": "code",
   "execution_count": 27,
   "id": "fe1fea61-7aa4-4ed3-ae1d-328b3e149ab7",
   "metadata": {},
   "outputs": [],
   "source": [
    "###Compiling Model"
   ]
  },
  {
   "cell_type": "code",
   "execution_count": 28,
   "id": "c2c63c47-1798-4a60-9981-118545801af9",
   "metadata": {},
   "outputs": [],
   "source": [
    "model.compile(optimizer=tf.keras.optimizers.Adam(\n",
    "    learning_rate=0.0001),loss='categorical_crossentropy',metrics=['accuracy'])"
   ]
  },
  {
   "cell_type": "code",
   "execution_count": 29,
   "id": "f802b754-dded-4e19-aea6-26fc55ffcad3",
   "metadata": {},
   "outputs": [
    {
     "name": "stdout",
     "output_type": "stream",
     "text": [
      "Model: \"sequential\"\n",
      "_________________________________________________________________\n",
      " Layer (type)                Output Shape              Param #   \n",
      "=================================================================\n",
      " conv2d (Conv2D)             (None, 128, 128, 32)      896       \n",
      "                                                                 \n",
      " conv2d_1 (Conv2D)           (None, 126, 126, 32)      9248      \n",
      "                                                                 \n",
      " max_pooling2d (MaxPooling2D  (None, 63, 63, 32)       0         \n",
      " )                                                               \n",
      "                                                                 \n",
      " conv2d_2 (Conv2D)           (None, 63, 63, 64)        18496     \n",
      "                                                                 \n",
      " conv2d_3 (Conv2D)           (None, 61, 61, 64)        36928     \n",
      "                                                                 \n",
      " max_pooling2d_1 (MaxPooling  (None, 30, 30, 64)       0         \n",
      " 2D)                                                             \n",
      "                                                                 \n",
      " conv2d_4 (Conv2D)           (None, 30, 30, 128)       73856     \n",
      "                                                                 \n",
      " conv2d_5 (Conv2D)           (None, 28, 28, 128)       147584    \n",
      "                                                                 \n",
      " max_pooling2d_2 (MaxPooling  (None, 14, 14, 128)      0         \n",
      " 2D)                                                             \n",
      "                                                                 \n",
      " conv2d_6 (Conv2D)           (None, 14, 14, 256)       295168    \n",
      "                                                                 \n",
      " conv2d_7 (Conv2D)           (None, 12, 12, 256)       590080    \n",
      "                                                                 \n",
      " max_pooling2d_3 (MaxPooling  (None, 6, 6, 256)        0         \n",
      " 2D)                                                             \n",
      "                                                                 \n",
      " conv2d_8 (Conv2D)           (None, 6, 6, 512)         1180160   \n",
      "                                                                 \n",
      " conv2d_9 (Conv2D)           (None, 4, 4, 512)         2359808   \n",
      "                                                                 \n",
      " max_pooling2d_4 (MaxPooling  (None, 2, 2, 512)        0         \n",
      " 2D)                                                             \n",
      "                                                                 \n",
      " dropout (Dropout)           (None, 2, 2, 512)         0         \n",
      "                                                                 \n",
      " flatten (Flatten)           (None, 2048)              0         \n",
      "                                                                 \n",
      " dense (Dense)               (None, 1500)              3073500   \n",
      "                                                                 \n",
      " dropout_1 (Dropout)         (None, 1500)              0         \n",
      "                                                                 \n",
      " dense_1 (Dense)             (None, 38)                57038     \n",
      "                                                                 \n",
      "=================================================================\n",
      "Total params: 7,842,762\n",
      "Trainable params: 7,842,762\n",
      "Non-trainable params: 0\n",
      "_________________________________________________________________\n"
     ]
    }
   ],
   "source": [
    "model.summary()"
   ]
  },
  {
   "cell_type": "code",
   "execution_count": 30,
   "id": "78f78178-dd7b-43eb-8485-298795d20ae0",
   "metadata": {},
   "outputs": [],
   "source": [
    "## Training Model "
   ]
  },
  {
   "cell_type": "code",
   "execution_count": null,
   "id": "4b4b1505-d5b7-4fae-ac78-983a5e11bb06",
   "metadata": {},
   "outputs": [
    {
     "name": "stdout",
     "output_type": "stream",
     "text": [
      "Epoch 1/10\n",
      "2197/2197 [==============================] - 481s 199ms/step - loss: 1.3468 - accuracy: 0.6029 - val_loss: 0.5113 - val_accuracy: 0.8389\n",
      "Epoch 2/10\n",
      "2197/2197 [==============================] - 227s 103ms/step - loss: 0.4462 - accuracy: 0.8588 - val_loss: 0.3709 - val_accuracy: 0.8790\n",
      "Epoch 3/10\n",
      "1280/2197 [================>.............] - ETA: 1:28 - loss: 0.2950 - accuracy: 0.9049"
     ]
    }
   ],
   "source": [
    "training_history=model.fit(x=training_set,validation_data=validation_set,epochs=10)  "
   ]
  },
  {
   "cell_type": "code",
   "execution_count": null,
   "id": "d8302df0-9bc5-4e17-9474-3973cab213f8",
   "metadata": {},
   "outputs": [],
   "source": [
    "##Model Evaluation"
   ]
  },
  {
   "cell_type": "code",
   "execution_count": null,
   "id": "5ab5b3fd-8a7f-42d0-8886-8deeaf233055",
   "metadata": {},
   "outputs": [],
   "source": [
    "train_loss,train_acc = model.evaluate(training_set)"
   ]
  },
  {
   "cell_type": "code",
   "execution_count": null,
   "id": "4a7c5b77-c8b4-467a-9566-cc24448322c3",
   "metadata": {},
   "outputs": [],
   "source": [
    "print(train_loss,train_acc)"
   ]
  },
  {
   "cell_type": "code",
   "execution_count": null,
   "id": "5c1671c7-5404-40c3-89d6-36d1adfdb2a4",
   "metadata": {},
   "outputs": [],
   "source": [
    "## Model Validation set"
   ]
  },
  {
   "cell_type": "code",
   "execution_count": null,
   "id": "20cc0171-dc81-459b-870c-996759963c8c",
   "metadata": {},
   "outputs": [],
   "source": [
    "val_loss,val_acc = model.evaluate(validation_set)"
   ]
  },
  {
   "cell_type": "code",
   "execution_count": null,
   "id": "5ac8c44f-4e16-4ea9-b9da-20809470f8d6",
   "metadata": {},
   "outputs": [],
   "source": [
    "print(val_loss,val_acc)"
   ]
  },
  {
   "cell_type": "code",
   "execution_count": null,
   "id": "3e40d3bc-69e1-4339-9d77-e7a78b73cc3c",
   "metadata": {},
   "outputs": [],
   "source": [
    "## Saving Model"
   ]
  },
  {
   "cell_type": "code",
   "execution_count": null,
   "id": "a8e26858-364d-403e-9f18-525ae63fa4cb",
   "metadata": {},
   "outputs": [],
   "source": [
    "model.save(\"trained_model.h5\")"
   ]
  },
  {
   "cell_type": "code",
   "execution_count": null,
   "id": "8f7025f1-29d0-48ac-98aa-9e490a1d1826",
   "metadata": {},
   "outputs": [],
   "source": [
    "model.save(\"trained_model.keras\")"
   ]
  },
  {
   "cell_type": "code",
   "execution_count": null,
   "id": "842eab97-6dd4-4e92-8b13-f159e016ef92",
   "metadata": {},
   "outputs": [],
   "source": [
    "training_history.history"
   ]
  },
  {
   "cell_type": "code",
   "execution_count": null,
   "id": "46627644-57d0-4d12-ae7a-a134b058fd24",
   "metadata": {},
   "outputs": [],
   "source": [
    "##Recording History in Json"
   ]
  },
  {
   "cell_type": "code",
   "execution_count": null,
   "id": "ccdbc0c0-132a-4fee-b5dd-d9a205dd44f4",
   "metadata": {},
   "outputs": [],
   "source": [
    "import json\n",
    "with open('training_hist.json','w') as f:\n",
    "    json.dump(training_history.history,f)"
   ]
  },
  {
   "cell_type": "code",
   "execution_count": null,
   "id": "18bbe8a0-66b5-4011-ba07-18dc2d4bdf00",
   "metadata": {},
   "outputs": [],
   "source": [
    "## Accuracy Visualization"
   ]
  },
  {
   "cell_type": "code",
   "execution_count": null,
   "id": "9a29541f-1368-4668-ad1c-f1a72eb0de69",
   "metadata": {},
   "outputs": [],
   "source": [
    "epochs=[i for i in range(1,11)]\n",
    "plt.plot(epochs,training_histpry.history['accuracy'],color='red',label='Training Accuracy')\n",
    "plt.plot(epochs,training_histpry.history['val_accuracy'],color='blue',label='Validation  accuracy')\n",
    "plt.xlabel('No of Epochs')\n",
    "plt.ylabel('Accuracy results')\n",
    "plt.title(\"Visualization of Accuracy results \")\n",
    "plt.legend()\n",
    "plt.show()"
   ]
  },
  {
   "cell_type": "code",
   "execution_count": null,
   "id": "c0fe25c7-4a5b-42b7-8712-094b3e375019",
   "metadata": {},
   "outputs": [],
   "source": [
    "## Some Other Matrics for model evaluation"
   ]
  },
  {
   "cell_type": "code",
   "execution_count": null,
   "id": "e910face-15f4-4bdc-9fde-f0eeda71c537",
   "metadata": {},
   "outputs": [],
   "source": [
    "class_name=validation_set.class_names\n",
    "class_name"
   ]
  },
  {
   "cell_type": "code",
   "execution_count": null,
   "id": "395a229c-2e73-488a-ae68-285190c57adf",
   "metadata": {},
   "outputs": [],
   "source": [
    "test_set = tf.keras.utils.image_dataset_from_directory(\n",
    "    \"valid\",\n",
    "    labels=\"inferred\",\n",
    "    label_mode=\"categorical\",\n",
    "    class_names=None,\n",
    "    color_mode=\"rgb\",\n",
    "    batch_size=32,\n",
    "    image_size=(128, 128),\n",
    "    shuffle=False,\n",
    "    seed=None,\n",
    "    validation_split=None,\n",
    "    subset=None,\n",
    "    interpolation=\"bilinear\",\n",
    "    follow_links=False,\n",
    "    crop_to_aspect_ratio=False,\n",
    ")"
   ]
  },
  {
   "cell_type": "code",
   "execution_count": null,
   "id": "851008e9-c62a-426f-a5eb-9e6e31d3043c",
   "metadata": {},
   "outputs": [],
   "source": [
    "y_pred=model.predict(test_set)\n",
    "y_pred.shape"
   ]
  },
  {
   "cell_type": "code",
   "execution_count": null,
   "id": "b7efa9e0-46c9-4180-b568-8d0c70891374",
   "metadata": {},
   "outputs": [],
   "source": [
    "predicted_categories = tf.argmax(y_pred,axis=1)\n",
    "predicted_categories"
   ]
  },
  {
   "cell_type": "code",
   "execution_count": null,
   "id": "01d2f26d-dad8-4591-a21b-39a7605c202e",
   "metadata": {},
   "outputs": [],
   "source": [
    "true_categories = tf.concat([y, for x,y in test_set],axis=0)\n",
    "true_categories"
   ]
  },
  {
   "cell_type": "code",
   "execution_count": null,
   "id": "d35dc163-2390-4a36-9df2-b79860a31cfc",
   "metadata": {},
   "outputs": [],
   "source": [
    "t_true = tf.argmax(true_categories,axis=1)\n",
    "t_true"
   ]
  },
  {
   "cell_type": "code",
   "execution_count": null,
   "id": "9fe10495-3528-44d8-89dd-3e9626314cb8",
   "metadata": {},
   "outputs": [],
   "source": [
    "from sklearn.metrics import classifiation_report,confusion_matrix"
   ]
  },
  {
   "cell_type": "code",
   "execution_count": null,
   "id": "e0bdb685-bac0-460a-b263-ab95619322f4",
   "metadata": {},
   "outputs": [],
   "source": [
    "print(classification_report(y_true,predicted_categories,target_names=class_name)) "
   ]
  },
  {
   "cell_type": "code",
   "execution_count": null,
   "id": "001f1bb7-341c-4126-89e5-1b43c62e4706",
   "metadata": {},
   "outputs": [],
   "source": [
    "cm=confusion_matrix(y_true.predicted_categories)\n",
    "cm"
   ]
  },
  {
   "cell_type": "code",
   "execution_count": null,
   "id": "4bb517c6-7557-4470-bcc7-d6750f19eea0",
   "metadata": {},
   "outputs": [],
   "source": [
    "##Confusion matrix visualization"
   ]
  },
  {
   "cell_type": "code",
   "execution_count": null,
   "id": "7b3574e6-67a2-4b42-8eac-a3f3ec2f55d8",
   "metadata": {},
   "outputs": [],
   "source": [
    "plt.figure(figsize=(40,40))\n",
    "sns.heatmap(cm,annot=True,annot_kws=('size':15)\n",
    "plt.xlabel(\"Predicted Class\",fontsize=35)\n",
    "plt.ylabel(\"Actual Class\",fontsize=35)\n",
    "plt.title(\"Plant Disease prediction Confusion Matrix\",fontsize=25)\n",
    "plt.show()"
   ]
  },
  {
   "cell_type": "code",
   "execution_count": null,
   "id": "f722a5e1-9355-4719-bfbe-1c2aaee79cc9",
   "metadata": {},
   "outputs": [],
   "source": []
  },
  {
   "cell_type": "code",
   "execution_count": null,
   "id": "4112306d-aec8-4af4-ab0d-fe186d15e2df",
   "metadata": {},
   "outputs": [],
   "source": []
  },
  {
   "cell_type": "code",
   "execution_count": null,
   "id": "ccda369a-a160-44ba-836c-19159758177f",
   "metadata": {},
   "outputs": [],
   "source": []
  },
  {
   "cell_type": "code",
   "execution_count": null,
   "id": "d9352aeb-1496-4d78-8f2a-7216808550d0",
   "metadata": {},
   "outputs": [],
   "source": []
  }
 ],
 "metadata": {
  "kernelspec": {
   "display_name": "Python 3 (ipykernel)",
   "language": "python",
   "name": "python3"
  },
  "language_info": {
   "codemirror_mode": {
    "name": "ipython",
    "version": 3
   },
   "file_extension": ".py",
   "mimetype": "text/x-python",
   "name": "python",
   "nbconvert_exporter": "python",
   "pygments_lexer": "ipython3",
   "version": "3.10.16"
  }
 },
 "nbformat": 4,
 "nbformat_minor": 5
}
